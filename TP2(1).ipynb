{
 "cells": [
  {
   "cell_type": "markdown",
   "metadata": {},
   "source": [
    "## TP2"
   ]
  },
  {
   "cell_type": "markdown",
   "metadata": {},
   "source": [
    "#### Question 1"
   ]
  },
  {
   "cell_type": "code",
   "execution_count": 1,
   "metadata": {},
   "outputs": [
    {
     "name": "stdout",
     "output_type": "stream",
     "text": [
      "Created file '/mnt/nfs/etu/p1925345/M1/Matlab/f1.m'.\n"
     ]
    }
   ],
   "source": [
    "%%file f1.m\n",
    "function [p, E]=f1(x, f)\n",
    "    n =size(x,2);\n",
    "    A = zeros(n, n);\n",
    "    b = zeros(n, 1);\n",
    "    %regarder fonction vander pour faire la matrice de vandermonde\n",
    "    for (i=1:n)\n",
    "        b(i)=f(x(i));\n",
    "        for (j=1:n)\n",
    "            if (j ~=n)\n",
    "                A(i, n-j)=x(i).^(j-1);\n",
    "            else \n",
    "                A(i,j)=(-1)^i;\n",
    "            end\n",
    "        end\n",
    "    end\n",
    "    res = linsolve(A, b);\n",
    "    p = res(1:(end-1));\n",
    "    E = res(end);\n",
    "end"
   ]
  },
  {
   "cell_type": "markdown",
   "metadata": {},
   "source": [
    "### Question 2"
   ]
  },
  {
   "cell_type": "markdown",
   "metadata": {},
   "source": [
    "#### On code l'algorithme de Remez"
   ]
  },
  {
   "cell_type": "code",
   "execution_count": 14,
   "metadata": {},
   "outputs": [
    {
     "name": "stdout",
     "output_type": "stream",
     "text": [
      "Created file '/mnt/nfs/etu/p1925345/M1/Matlab/Remez.m'.\n"
     ]
    }
   ],
   "source": [
    "%%file Remez.m\n",
    "function [E, pts] = Remez(n, f, a, b)\n",
    "    q = 1e-3;\n",
    "    pts = linspace(a,b,n+2);\n",
    "    inter = a:(1e-6):b;\n",
    "    [p_n e] = f1(pts,f);\n",
    "    E = [e];\n",
    "    pol = polyval(p_n, inter);\n",
    "    pol2 = polyval(p_n, pts);\n",
    "    [M, ind_x_sec] = max(abs(f(inter)-pol)); %LIGNE 10\n",
    "    x_sec = inter(ind_x_sec);\n",
    "    i =1;\n",
    "    l = length(pts);\n",
    "    \n",
    "    while (i+1)<=l\n",
    "        if (pts(i)<= x_sec) && (pts(i+1) >= x_sec)\n",
    "            sgn = sign(f(x_sec)-pol(ind_x_sec));\n",
    "            sgn_i = sign(f(pts(i)) - pol2(i));\n",
    "            if (sgn == sgn_i)\n",
    "                pts(i) = x_sec; % LIGNE 20\n",
    "            else \n",
    "                pts(i+1) = x_sec;\n",
    "            end \n",
    "            break\n",
    "        else \n",
    "            i = i+1;\n",
    "        end\n",
    "    end \n",
    "    \n",
    "    pts; %LIGNE 30\n",
    "    [p_n e] = f1(pts, f);\n",
    "    E = [E e];\n",
    "    pol = polyval(p_n, inter);\n",
    "    pol2 = polyval(p_n, pts);\n",
    "    [M, ind_x_sec] = max(abs(f(inter)-pol));\n",
    "    x_sec = inter(ind_x_sec);\n",
    "    cmpt = 1;\n",
    "    \n",
    "    while ((min(abs(pts - x_sec)) >= q) && (abs(E(end-1) - E(end)) > q)) & cmpt < 10 %LIGNE 40\n",
    "        i = 1;\n",
    "        sgn = sign(f(x_sec)- pol(ind_x_sec));\n",
    "        if (a <=x_sec) & (x_sec <pts(1))\n",
    "            if (sgn == sign(f(pts(1)) - pol2(1)))\n",
    "                pts(1) = x_sec;\n",
    "            else \n",
    "                pts = [x_sec, pts(1:(end-1))];\n",
    "            end\n",
    "        elseif ((pts(n+2) < x_sec) && (x_sec <= b)) \n",
    "            if (sgn == sign(f(pts(n+2)) - pol2(n+2))) %LIGNE 50\n",
    "                pts(n+2) = x_sec;\n",
    "            else \n",
    "                pts = [pts(2:end), x_sec];\n",
    "            end\n",
    "        else \n",
    "            while (i+1)<=l\n",
    "                if (pts(i)<= x_sec) && (pts(i+1) >= x_sec)\n",
    "                    sgn_i = sign(f(pts(i)) - pol2(i));\n",
    "                    if (sgn == sgn_i)\n",
    "                        pts(i) = x_sec; % LIGNE 60\n",
    "                    else \n",
    "                        pts(i+1) = x_sec;\n",
    "                    end \n",
    "                    break\n",
    "                else\n",
    "                    i = i+1;\n",
    "                end\n",
    "            end\n",
    "        end\n",
    "        [p_n e] = f1(pts, f); % LIGNE 70\n",
    "        E = [E e];\n",
    "        pol = polyval(p_n, inter);\n",
    "        pol2 = polyval(p_n, pts);\n",
    "        [M, ind_x_sec] = max(abs(f(inter)-pol));\n",
    "        x_sec = inter(ind_x_sec);\n",
    "        cmpt = cmpt +1;\n",
    "    end\n",
    "    %out = [E, pts];\n",
    "end"
   ]
  },
  {
   "cell_type": "markdown",
   "metadata": {},
   "source": [
    "### Pour la fonction $ sqrt(x) $"
   ]
  },
  {
   "cell_type": "code",
   "execution_count": 9,
   "metadata": {},
   "outputs": [],
   "source": [
    "a = 0;\n",
    "b = 1;\n",
    "gr = linspace(a, b, 1000); % grille pour les plot\n",
    "f = @(x) sqrt(x);"
   ]
  },
  {
   "cell_type": "markdown",
   "metadata": {},
   "source": [
    "#### On teste pour plusieurs nombres de points cherchés :"
   ]
  },
  {
   "cell_type": "code",
   "execution_count": 13,
   "metadata": {},
   "outputs": [
    {
     "name": "stdout",
     "output_type": "stream",
     "text": [
      "warning: Matlab-style short-circuit operation performed for operator &\r\n",
      "warning: called from\r\n",
      "    Remez at line 76 column 14\r\n"
     ]
    },
    {
     "data": {
      "image/png": "[encoded data removed]",
      "text/plain": [
       "<IPython.core.display.Image object>"
      ]
     },
     "metadata": {},
     "output_type": "display_data"
    }
   ],
   "source": [
    "[E, pts3] = Remez(3,f, a, b);\n",
    "%[E, pts8] = Remez(8,f, a, b);\n",
    "%[E, pts12] = Remez(12,f, a, b);"
   ]
  },
  {
   "cell_type": "code",
   "execution_count": 6,
   "metadata": {},
   "outputs": [
    {
     "name": "stdout",
     "output_type": "stream",
     "text": [
      "warning: ft_text_renderer: failed to decode string `Comparaison de f et de p après Remez pour n = 3, 8, 12' with locale `C'\r\n",
      "warning: called from\r\n",
      "    __axis_label__ at line 31 column 3\r\n",
      "    title at line 51 column 8\r\n",
      "warning: ft_text_renderer: failed to decode string `Comparaison de f et de p après Remez pour n = 3, 8, 12' with locale `C'\r\n",
      "warning: called from\r\n",
      "    __axis_label__ at line 31 column 3\r\n",
      "    title at line 51 column 8\r\n"
     ]
    },
    {
     "data": {
      "image/png": "[encoded data removed]",
      "text/plain": [
       "<IPython.core.display.Image object>"
      ]
     },
     "metadata": {},
     "output_type": "display_data"
    }
   ],
   "source": [
    "p_n3 = f1(pts3, f);\n",
    "pol3 = polyval(p_n3, gr);\n",
    "\n",
    "p_n8 = f1(pts8, f);\n",
    "pol8 = polyval(p_n8,gr);\n",
    "\n",
    "p_n12 = f1(pts12, f);\n",
    "pol12 = polyval(p_n12,gr);\n",
    "\n",
    "plot(gr, pol3, 'b')\n",
    "hold on\n",
    "plot(gr, pol8, 'r')\n",
    "hold on\n",
    "plot(gr, pol12, 'g')\n",
    "hold on\n",
    "plot(gr, f(gr), 'k')\n",
    "\n",
    "legend(\"n=3\", \"n=8\", \"n=12\", \"f\")\n",
    "title(\"Comparaison de f et de p après Remez pour n = 3, 8, 12\")\n",
    "xlabel(\"x\")"
   ]
  },
  {
   "cell_type": "markdown",
   "metadata": {},
   "source": [
    "### Pour la fonction $ abs(x) $"
   ]
  },
  {
   "cell_type": "code",
   "execution_count": 7,
   "metadata": {},
   "outputs": [],
   "source": [
    "a = -1;\n",
    "b=1;\n",
    "gr = linspace(a, b, 1000);\n",
    "g = @(x) abs(x);"
   ]
  },
  {
   "cell_type": "code",
   "execution_count": 8,
   "metadata": {},
   "outputs": [
    {
     "name": "stdout",
     "output_type": "stream",
     "text": [
      "warning: Matlab-style short-circuit operation performed for operator &\n",
      "warning: called from\n",
      "    Remez at line 75 column 14\n",
      "warning: Matlab-style short-circuit operation performed for operator &\n",
      "warning: called from\n",
      "    Remez at line 39 column 5\n",
      "warning: Matlab-style short-circuit operation performed for operator &\n",
      "warning: called from\n",
      "    Remez at line 39 column 5\n"
     ]
    }
   ],
   "source": [
    "[E, pts6] = Remez(6,g, a, b);\n",
    "[E, pts13] = Remez(12,g, a, b);\n",
    "[E, pts24] = Remez(24,g, a, b);"
   ]
  },
  {
   "cell_type": "code",
   "execution_count": 9,
   "metadata": {},
   "outputs": [
    {
     "data": {
      "image/png": "[encoded data removed]",
      "text/plain": [
       "<IPython.core.display.Image object>"
      ]
     },
     "metadata": {},
     "output_type": "display_data"
    }
   ],
   "source": [
    "p_n6 = f1(pts6, g);\n",
    "pol6 = polyval(p_n6, gr);\n",
    "\n",
    "p_n13 = f1(pts13, g);\n",
    "pol13 = polyval(p_n13,gr);\n",
    "\n",
    "p_n24 = f1(pts24, g);\n",
    "pol24 = polyval(p_n24,gr);\n",
    "\n",
    "plot(gr, pol6, 'b')\n",
    "hold on\n",
    "plot(gr, pol13, 'r')\n",
    "hold on\n",
    "plot(gr, g(gr), 'k')\n",
    "ylim([0 1.5])\n",
    "\n",
    "legend(\"n=6\", \"n=13\",\"g\")\n",
    "title(\"Comparaison de g et de p apres Remez pour n = 6, 13\")\n",
    "xlabel(\"x\")"
   ]
  },
  {
   "cell_type": "markdown",
   "metadata": {},
   "source": [
    "#### La courbe pour n=24 éxplose aux bornes, ce qui ne nous permet pas de voir ce qu'il se passe pour les autres courbes :"
   ]
  },
  {
   "cell_type": "code",
   "execution_count": 10,
   "metadata": {},
   "outputs": [
    {
     "data": {
      "image/png": "[encoded data removed]",
      "text/plain": [
       "<IPython.core.display.Image object>"
      ]
     },
     "metadata": {},
     "output_type": "display_data"
    }
   ],
   "source": [
    "plot(gr, pol24, 'r')\n",
    "hold on\n",
    "plot(gr, g(gr), 'k')\n",
    "legend(\"n=24\", \"g\")\n",
    "title(\"Comparaison de g et de p apres Remez pour n = 24\")\n",
    "xlabel(\"x\")"
   ]
  },
  {
   "cell_type": "markdown",
   "metadata": {},
   "source": [
    "### Pour la fonction $ x^n $"
   ]
  },
  {
   "cell_type": "code",
   "execution_count": 11,
   "metadata": {},
   "outputs": [
    {
     "name": "stdout",
     "output_type": "stream",
     "text": [
      "warning: Matlab-style short-circuit operation performed for operator &\n",
      "warning: called from\n",
      "    Remez at line 39 column 5\n",
      "warning: division by zero\n"
     ]
    },
    {
     "data": {
      "image/png": "[encoded data removed]",
      "text/plain": [
       "<IPython.core.display.Image object>"
      ]
     },
     "metadata": {},
     "output_type": "display_data"
    }
   ],
   "source": [
    "n=13;\n",
    "h = @(x) x.^n;\n",
    "[E, pts] = Remez(n,h, a, b);\n",
    "\n",
    "p_n = f1(pts, h)(1:(end-1));\n",
    "pol = polyval(p_n, gr);\n",
    "\n",
    "plot(gr, pol, 'k')\n",
    "hold on\n",
    "plot(gr, h(gr), 'r')\n",
    "hold on\n",
    "plot(gr, ((h(gr)-pol)/(abs(max(h(gr)-pol)))), 'g', 'Linewidth', 3)\n",
    "%ylim([-0.5 1.5])\n",
    "title([\"Comparaison de h et de p apres Remez avec n = 6\"] )\n",
    "xlabel('x')\n",
    "legend('p(x)','h(x)', '(x^n - p)/max(x^n-p)')"
   ]
  },
  {
   "cell_type": "markdown",
   "metadata": {},
   "source": [
    "#### Question 3"
   ]
  },
  {
   "cell_type": "code",
   "execution_count": 12,
   "metadata": {},
   "outputs": [
    {
     "name": "stdout",
     "output_type": "stream",
     "text": [
      "warning: Matlab-style short-circuit operation performed for operator &\n",
      "warning: called from\n",
      "    Remez at line 75 column 14\n",
      "warning: Matlab-style short-circuit operation performed for operator &\n",
      "warning: called from\n",
      "    Remez at line 75 column 14\n"
     ]
    }
   ],
   "source": [
    "a = -1;\n",
    "b=0; \n",
    "c = 1;\n",
    "n = 8;\n",
    "[E1 p1] = Remez(n,f,b,c);\n",
    "[E2 p2] = Remez(n, g, a, c);"
   ]
  },
  {
   "cell_type": "code",
   "execution_count": 13,
   "metadata": {},
   "outputs": [
    {
     "data": {
      "image/png": "[encoded data removed]",
      "text/plain": [
       "<IPython.core.display.Image object>"
      ]
     },
     "metadata": {},
     "output_type": "display_data"
    }
   ],
   "source": [
    "stem(E2, 'b', 'DisplayName',char({'| E2 |  '}))\n",
    "hold on \n",
    "stem(E1, 'r', 'DisplayName',char({'| E1 |  '}))\n",
    "legend\n",
    "title(\"Evolution de |e| au cours des iterations pour sqrt(x) et |x| avec n = 8\")"
   ]
  },
  {
   "cell_type": "markdown",
   "metadata": {},
   "source": [
    "#### A chaque itération et pour les deux fontions étudiées, on remarque que les valeurs de |e| forment bien une suite croissante qui semble avoir une limite."
   ]
  },
  {
   "cell_type": "code",
   "execution_count": 14,
   "metadata": {},
   "outputs": [
    {
     "name": "stdout",
     "output_type": "stream",
     "text": [
      "warning: matrix singular to machine precision, rcond = 5.82283e-41\n",
      "warning: called from\n",
      "    linsolve at line 108 column 7\n",
      "    f1 at line 16 column 9\n",
      "    Remez at line 5 column 12\n",
      "warning: matrix singular to machine precision, rcond = 1.90595e-40\n",
      "warning: called from\n",
      "    linsolve at line 108 column 7\n",
      "    f1 at line 16 column 9\n",
      "    Remez at line 30 column 12\n",
      "warning: Matlab-style short-circuit operation performed for operator &\n",
      "warning: called from\n",
      "    Remez at line 39 column 5\n",
      "warning: matrix singular to machine precision, rcond = 2.4229e-34\n",
      "warning: called from\n",
      "    linsolve at line 108 column 7\n",
      "    f1 at line 16 column 9\n",
      "    Remez at line 5 column 12\n",
      "warning: matrix singular to machine precision, rcond = 9.77955e-35\n",
      "warning: called from\n",
      "    linsolve at line 108 column 7\n",
      "    f1 at line 16 column 9\n",
      "    Remez at line 30 column 12\n",
      "warning: Matlab-style short-circuit operation performed for operator &\n",
      "warning: called from\n",
      "    Remez at line 39 column 5\n"
     ]
    }
   ],
   "source": [
    "n = 72;\n",
    "[E1 p1] = Remez(n,f,b,c);\n",
    "[E2 p2] = Remez(n, g, a, c);"
   ]
  },
  {
   "cell_type": "markdown",
   "metadata": {},
   "source": [
    "#### Prenons un n plus grand et effectuons un plot plutôt qu'un stem afin de mieux voir l'évolution de |e|."
   ]
  },
  {
   "cell_type": "code",
   "execution_count": 16,
   "metadata": {},
   "outputs": [
    {
     "name": "stdout",
     "output_type": "stream",
     "text": [
      "ans =  0.000025620\r\n"
     ]
    },
    {
     "data": {
      "image/png": "[encoded data removed]",
      "text/plain": [
       "<IPython.core.display.Image object>"
      ]
     },
     "metadata": {},
     "output_type": "display_data"
    }
   ],
   "source": [
    "plot(1:length(E2),abs(E2))\n",
    "hold on \n",
    "plot(1:length(E1), abs(E1))\n",
    "legend(\"| E2 |\", \"| E1 |\")\n",
    "title(\"Evolution de |e| au cours des iterations pour sqrt(x) et |x| avec n = 72\")\n",
    "max(abs(E1))"
   ]
  }
 ],
 "metadata": {
  "kernelspec": {
   "display_name": "Octave",
   "language": "octave",
   "name": "octave"
  },
  "language_info": {
   "file_extension": ".m",
   "help_links": [
    {
     "text": "GNU Octave",
     "url": "https://www.gnu.org/software/octave/support.html"
    },
    {
     "text": "Octave Kernel",
     "url": "https://github.com/Calysto/octave_kernel"
    },
    {
     "text": "MetaKernel Magics",
     "url": "https://metakernel.readthedocs.io/en/latest/source/README.html"
    }
   ],
   "mimetype": "text/x-octave",
   "name": "octave",
   "version": "4.4.1"
  }
 },
 "nbformat": 4,
 "nbformat_minor": 5
}
