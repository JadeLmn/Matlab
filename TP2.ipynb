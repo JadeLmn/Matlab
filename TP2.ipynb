{
 "cells": [
  {
   "cell_type": "markdown",
   "metadata": {},
   "source": [
    "## TP2"
   ]
  },
  {
   "cell_type": "markdown",
   "metadata": {},
   "source": [
    "#### Question 1"
   ]
  },
  {
   "cell_type": "code",
   "execution_count": 1,
   "metadata": {},
   "outputs": [],
   "source": [
    "%%file f1.m\n",
    "function [p, E]=f1(x, f)\n",
    "    n =size(x,2);\n",
    "    A = zeros(n, n);\n",
    "    b = zeros(n, 1);\n",
    "    %regarder fonction vander pour faire la matrice de vandermonde\n",
    "    for (i=1:n)\n",
    "        b(i)=f(x(i));\n",
    "        for (j=1:n)\n",
    "            if (j ~=n)\n",
    "                A(i, n-j)=x(i).^(j-1);\n",
    "            else \n",
    "                A(i,j)=(-1)^i;\n",
    "            end\n",
    "        end\n",
    "    end\n",
    "    res = linsolve(A, b);\n",
    "    p = res(1:(end-1));\n",
    "    E = res(end);\n",
    "end"
   ]
  },
  {
   "cell_type": "markdown",
   "metadata": {},
   "source": [
    "### Question 2"
   ]
  },
  {
   "cell_type": "code",
   "execution_count": 2,
   "metadata": {},
   "outputs": [],
   "source": [
    "% afficher pour les différentes valeurs de n du sujet"
   ]
  },
  {
   "cell_type": "code",
   "execution_count": 3,
   "metadata": {},
   "outputs": [],
   "source": [
    "n = 3;\n",
    "pas = 1/(n+2);\n",
    "x = 0:pas:1;\n",
    "pts_av = 0:pas:1;\n",
    "new_pas = 1e-6;\n",
    "inter = 0:new_pas:1;\n",
    "f = @(x) sqrt(x);"
   ]
  },
  {
   "cell_type": "code",
   "execution_count": 4,
   "metadata": {},
   "outputs": [],
   "source": [
    "[p_n_av, E] = f1(x, f);\n",
    "len = length(x);"
   ]
  },
  {
   "cell_type": "code",
   "execution_count": 6,
   "metadata": {},
   "outputs": [
    {
     "data": {
      "image/png": "[encoded data removed]",
      "text/plain": [
       "<IPython.core.display.Image object>"
      ]
     },
     "metadata": {},
     "output_type": "display_data"
    }
   ],
   "source": [
    "pol_av = polyval(p_n_av, x);\n",
    "plot(x, pol_av)\n",
    "hold on\n",
    "plot(x, f(x))"
   ]
  },
  {
   "cell_type": "code",
   "execution_count": 15,
   "metadata": {},
   "outputs": [
    {
     "name": "stdout",
     "output_type": "stream",
     "text": [
      "Created file '/mnt/nfs/etu/p1925345/M1/Matlab/Remez.m'.\n"
     ]
    }
   ],
   "source": [
    "%%file Remez.m\n",
    "function [E, pts] = Remez(n, f, pts, inter)\n",
    "    q = 1e-3;\n",
    "    a = min(inter);\n",
    "    b = max(inter);\n",
    "    [p_n e] = f1(pts,f);\n",
    "    E = [e];\n",
    "    pol = polyval(p_n, inter);\n",
    "    pol2 = polyval(p_n, pts);\n",
    "    [M, ind_x_sec] = max(abs(f(inter)-pol)) %LIGNE 10\n",
    "    x_sec = inter(ind_x_sec)\n",
    "    i =1;\n",
    "    l = length(pts);\n",
    "    \n",
    "    while (i+1)<=l\n",
    "        if (pts(i)<= x_sec) && (pts(i+1) >= x_sec)\n",
    "            sgn = sign(f(x_sec)-pol(ind_x_sec));\n",
    "            sgn_i = sign(f(pts(i)) - pol2(i));\n",
    "            if (sgn == sgn_i)\n",
    "                pts(i) = x_sec; % LIGNE 20\n",
    "            else \n",
    "                pts(i+1) = x_sec;\n",
    "            end \n",
    "            break\n",
    "        else \n",
    "            i = i+1;\n",
    "        end\n",
    "    end \n",
    "    \n",
    "    pts; %LIGNE 30\n",
    "    [p_n e] = f1(pts, f);\n",
    "    E = [E e];\n",
    "    pol = polyval(p_n, inter);\n",
    "    pol2 = polyval(p_n, pts);\n",
    "    [M, ind_x_sec] = max(abs(f(inter)-pol));\n",
    "    x_sec = inter(ind_x_sec);\n",
    "    cmpt = 1;\n",
    "    \n",
    "    \n",
    "    while ((min(abs(pts - x_sec)) >= q) && (abs(E(end-1) - E(end)) > q)) & cmpt < 10 %LIGNE 40\n",
    "        i = 1;\n",
    "        sgn = sign(f(x_sec)- pol(ind_x_sec));\n",
    "        if (a <=x_sec) & (x_sec <pts(1))\n",
    "            if (sgn == sign(f(pts(1)) - pol2(1)))\n",
    "                pts(1) = x_sec;\n",
    "            else \n",
    "                pts = [x_sec, pts(1:(end-1))];\n",
    "            end\n",
    "        elseif ((pts(n+2) < x_sec) && (x_sec <= b)) \n",
    "            if (sgn == sign(f(pts(n+2)) - pol2(n+2))) %LIGNE 50\n",
    "                pts(n+2) = x_sec;\n",
    "            else \n",
    "                pts = [pts(2:end), x_sec];\n",
    "            end\n",
    "        else \n",
    "            while (i+1)<=l\n",
    "                if (pts(i)<= x_sec) && (pts(i+1) >= x_sec)\n",
    "                    sgn_i = sign(f(pts(i)) - pol2(i));\n",
    "                    if (sgn == sgn_i)\n",
    "                        pts(i) = x_sec; % LIGNE 60\n",
    "                    else \n",
    "                        pts(i+1) = x_sec;\n",
    "                    end \n",
    "                    break\n",
    "                else\n",
    "                    i = i+1;\n",
    "                end\n",
    "            end\n",
    "        end\n",
    "        [p_n e] = f1(pts, f); % LIGNE 70\n",
    "        E = [E e];\n",
    "        pol = polyval(p_n, inter);\n",
    "        pol2 = polyval(p_n, pts);\n",
    "        [M, ind_x_sec] = max(abs(f(inter)-pol));\n",
    "        x_sec = inter(ind_x_sec);\n",
    "        cmpt = cmpt +1;\n",
    "    end\n",
    "    %out = [E, pts];\n",
    "end"
   ]
  },
  {
   "cell_type": "code",
   "execution_count": 16,
   "metadata": {},
   "outputs": [
    {
     "name": "stdout",
     "output_type": "stream",
     "text": [
      "M =  0.077152\n",
      "ind_x_sec =  31578\n",
      "x_sec =  0.031577\n",
      "warning: Matlab-style short-circuit operation performed for operator &\n",
      "warning: called from\n",
      "    Remez at line 75 column 14\n"
     ]
    }
   ],
   "source": [
    "[E, pts_ap] = Remez(n,f, pts_av, inter);"
   ]
  },
  {
   "cell_type": "code",
   "execution_count": 17,
   "metadata": {},
   "outputs": [
    {
     "name": "stdout",
     "output_type": "stream",
     "text": [
      "p_n_ap =\n",
      "\n",
      "   -6.290261\n",
      "   13.857162\n",
      "  -10.458490\n",
      "    3.824663\n",
      "    0.033463\n",
      "\n",
      "pol_ap =\n",
      "\n",
      "   0.033463   0.480849   0.615798   0.741134   0.918136   0.966537\n",
      "\n",
      "pol_av =\n",
      "\n",
      "   0.0057920   0.4414216   0.6382475   0.7688047   0.9002192   0.9942080\n",
      "\n"
     ]
    },
    {
     "data": {
      "image/png": "[encoded data removed]",
      "text/plain": [
       "<IPython.core.display.Image object>"
      ]
     },
     "metadata": {},
     "output_type": "display_data"
    }
   ],
   "source": [
    "p_n_ap = f1(pts_ap, f)\n",
    "pol_ap = polyval(p_n_ap, x)\n",
    "pol_av\n",
    "plot(x, pol_ap)\n",
    "hold on\n",
    "plot(x, f(x))"
   ]
  },
  {
   "cell_type": "code",
   "execution_count": 10,
   "metadata": {},
   "outputs": [],
   "source": [
    "pas2 = 2/(n+2);\n",
    "y = -1:pas2:1;\n",
    "g = @(x) abs(x);"
   ]
  },
  {
   "cell_type": "code",
   "execution_count": 11,
   "metadata": {},
   "outputs": [],
   "source": [
    "res2 = f1(y, g, n)"
   ]
  },
  {
   "cell_type": "code",
   "execution_count": 12,
   "metadata": {},
   "outputs": [],
   "source": [
    "P = @(x) x.^n;"
   ]
  },
  {
   "cell_type": "code",
   "execution_count": 13,
   "metadata": {},
   "outputs": [],
   "source": [
    "%fct = P(y,n);\n",
    "res3 = f1(y, P, n)"
   ]
  },
  {
   "cell_type": "markdown",
   "metadata": {},
   "source": [
    "#### Question 3"
   ]
  },
  {
   "cell_type": "code",
   "execution_count": 14,
   "metadata": {},
   "outputs": [],
   "source": [
    "E = [];\n",
    "for k=1:n\n",
    "    res = f1(x, f, k);\n",
    "    E = [E abs(res(end))];\n",
    "end"
   ]
  },
  {
   "cell_type": "code",
   "execution_count": 15,
   "metadata": {},
   "outputs": [],
   "source": [
    "stem(E)"
   ]
  }
 ],
 "metadata": {
  "kernelspec": {
   "display_name": "Octave",
   "language": "octave",
   "name": "octave"
  },
  "language_info": {
   "file_extension": ".m",
   "help_links": [
    {
     "text": "GNU Octave",
     "url": "https://www.gnu.org/software/octave/support.html"
    },
    {
     "text": "Octave Kernel",
     "url": "https://github.com/Calysto/octave_kernel"
    },
    {
     "text": "MetaKernel Magics",
     "url": "https://metakernel.readthedocs.io/en/latest/source/README.html"
    }
   ],
   "mimetype": "text/x-octave",
   "name": "octave",
   "version": "4.4.1"
  }
 },
 "nbformat": 4,
 "nbformat_minor": 5
}
